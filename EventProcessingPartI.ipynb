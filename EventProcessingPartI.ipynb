{
 "cells": [
  {
   "cell_type": "markdown",
   "id": "669d989f-e838-41a3-9ec9-cbde86166b46",
   "metadata": {},
   "source": [
    "# Event Processing - Part I"
   ]
  },
  {
   "cell_type": "markdown",
   "id": "d866730e-f37e-40a5-8ac0-6d6489ba1136",
   "metadata": {},
   "source": [
    "This code is used to process some events that were created from some application."
   ]
  },
  {
   "cell_type": "code",
   "execution_count": null,
   "id": "e0c48941-b137-423d-80cb-8b065ebdbdf1",
   "metadata": {},
   "outputs": [],
   "source": [
    "from datetime import datetime\n",
    "\n",
    "from pyspark.sql import SparkSession\n",
    "from pyspark.sql import functions as SF\n",
    "from pyspark.sql.window import Window"
   ]
  },
  {
   "cell_type": "code",
   "execution_count": null,
   "id": "a91445d2-61f7-418d-a37f-ef4bd3847567",
   "metadata": {},
   "outputs": [],
   "source": [
    "spark = SparkSession.builder.appName(\"EventProcessingPartI\").getOrCreate()"
   ]
  },
  {
   "cell_type": "code",
   "execution_count": null,
   "id": "dff82d8d-777c-4fa0-aedf-39a1359e1d3f",
   "metadata": {},
   "outputs": [],
   "source": [
    "spark"
   ]
  },
  {
   "cell_type": "markdown",
   "id": "5360d62f-57b6-46fa-9e0d-caf3d257e79c",
   "metadata": {},
   "source": [
    "## Reading Base"
   ]
  },
  {
   "cell_type": "code",
   "execution_count": null,
   "id": "7ba35b0f-bca9-4fb4-9256-dfa35bc33525",
   "metadata": {},
   "outputs": [],
   "source": [
    "input_file = 'events.json'\n",
    "output_temp_dir = 'temp'\n",
    "write_mode='overwrite'"
   ]
  },
  {
   "cell_type": "code",
   "execution_count": null,
   "id": "cb6fed08-e712-4955-9193-750f76de16a6",
   "metadata": {},
   "outputs": [],
   "source": [
    "df = spark.read.json(input_file)\n",
    "df.printSchema()"
   ]
  },
  {
   "cell_type": "markdown",
   "id": "8659e168-179a-4076-aeb1-ee5e6f9a9680",
   "metadata": {},
   "source": [
    "## Creating New Columns"
   ]
  },
  {
   "cell_type": "markdown",
   "id": "875ee51c-0d96-4861-b983-fedbdb6a06bb",
   "metadata": {},
   "source": [
    "### Final Event Type"
   ]
  },
  {
   "cell_type": "code",
   "execution_count": null,
   "id": "2866f959-2efd-4ab0-93d8-e54a1b39d7fd",
   "metadata": {},
   "outputs": [],
   "source": [
    "df = df.withColumn(\"final_event_type\", SF.concat(SF.col('domain'),SF.lit('_'), SF.col(\"event_type\")))"
   ]
  },
  {
   "cell_type": "markdown",
   "id": "ebddcf62-af5f-4374-b02b-0a81a6d56d09",
   "metadata": {},
   "source": [
    "### Event Load Date"
   ]
  },
  {
   "cell_type": "code",
   "execution_count": null,
   "id": "ef06e278-92b9-482d-a19c-8260704d62b7",
   "metadata": {},
   "outputs": [],
   "source": [
    "load_date = datetime.now()"
   ]
  },
  {
   "cell_type": "code",
   "execution_count": null,
   "id": "08f6adcb-e1fe-4a0f-8b41-fefd611e6a46",
   "metadata": {},
   "outputs": [],
   "source": [
    "df = df.withColumn(\"load_date\", SF.lit(load_date)) \n",
    "df = df.withColumn(\"year\", SF.year('load_date'))\n",
    "df = df.withColumn(\"month\", SF.month('load_date'))\n",
    "df = df.withColumn(\"day\", SF.date_format(SF.col(\"load_date\"), \"d\"))"
   ]
  },
  {
   "cell_type": "code",
   "execution_count": null,
   "id": "b0acdae8-e489-4974-8d06-695279246c18",
   "metadata": {},
   "outputs": [],
   "source": [
    "df.printSchema()"
   ]
  },
  {
   "cell_type": "markdown",
   "id": "7dfc6c9d-cb8a-4cd3-98ed-901af6c2cd2e",
   "metadata": {},
   "source": [
    "## Casting Data From Structure to String"
   ]
  },
  {
   "cell_type": "code",
   "execution_count": null,
   "id": "b478922a-98b2-4a75-9b62-1b31ac61278e",
   "metadata": {},
   "outputs": [],
   "source": [
    "df = df.withColumn(\"data\", SF.col('data').cast('string')) "
   ]
  },
  {
   "cell_type": "code",
   "execution_count": null,
   "id": "c05e83ac-5c84-4b87-bb98-88c45838edee",
   "metadata": {},
   "outputs": [],
   "source": [
    "df.printSchema()"
   ]
  },
  {
   "cell_type": "markdown",
   "id": "58a76f9b-cd63-4e64-955c-c8f1c18aa5b0",
   "metadata": {},
   "source": [
    "## Save temp dirs"
   ]
  },
  {
   "cell_type": "markdown",
   "id": "c6c050e1-5c54-499b-b6e6-d946769dedcb",
   "metadata": {},
   "source": [
    "Save data patition by final_event_type, year, month, day based on the load date. Each final_event_type partition will be lattaly by the second code."
   ]
  },
  {
   "cell_type": "code",
   "execution_count": null,
   "id": "a68ab00e-28e2-4842-a240-5db0a877a347",
   "metadata": {},
   "outputs": [],
   "source": [
    "df.write.partitionBy(['final_event_type','year','month','day'])\\\n",
    "    .mode(write_mode).parquet(output_temp_dir)"
   ]
  }
 ],
 "metadata": {
  "kernelspec": {
   "display_name": "Python 3",
   "language": "python",
   "name": "python3"
  },
  "language_info": {
   "codemirror_mode": {
    "name": "ipython",
    "version": 3
   },
   "file_extension": ".py",
   "mimetype": "text/x-python",
   "name": "python",
   "nbconvert_exporter": "python",
   "pygments_lexer": "ipython3",
   "version": "3.9.4"
  }
 },
 "nbformat": 4,
 "nbformat_minor": 5
}
