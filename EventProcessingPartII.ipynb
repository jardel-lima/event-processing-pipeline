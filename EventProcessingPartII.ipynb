{
 "cells": [
  {
   "cell_type": "markdown",
   "id": "669d989f-e838-41a3-9ec9-cbde86166b46",
   "metadata": {},
   "source": [
    "# Event Processing - Part II"
   ]
  },
  {
   "cell_type": "markdown",
   "id": "9ff641fe-84fe-4e4f-aa3d-0ace8e40679e",
   "metadata": {},
   "source": [
    "This is the second part of the event processing pipeline. This code will processes each event type that were partition by the previews code."
   ]
  },
  {
   "cell_type": "code",
   "execution_count": null,
   "id": "e0c48941-b137-423d-80cb-8b065ebdbdf1",
   "metadata": {},
   "outputs": [],
   "source": [
    "from pyspark.sql import SparkSession\n",
    "from pyspark.sql import functions as SF\n",
    "from pyspark.sql.window import Window"
   ]
  },
  {
   "cell_type": "code",
   "execution_count": null,
   "id": "a91445d2-61f7-418d-a37f-ef4bd3847567",
   "metadata": {},
   "outputs": [],
   "source": [
    "spark = SparkSession.builder.appName(\"EventProcessingPartII\").getOrCreate()"
   ]
  },
  {
   "cell_type": "code",
   "execution_count": null,
   "id": "dff82d8d-777c-4fa0-aedf-39a1359e1d3f",
   "metadata": {},
   "outputs": [],
   "source": [
    "spark"
   ]
  },
  {
   "cell_type": "markdown",
   "id": "5360d62f-57b6-46fa-9e0d-caf3d257e79c",
   "metadata": {},
   "source": [
    "## Reading Base"
   ]
  },
  {
   "cell_type": "code",
   "execution_count": null,
   "id": "6a215e70-d2a8-4a66-a436-a56f7a8df96d",
   "metadata": {},
   "outputs": [],
   "source": [
    "event_type='transaction_update'\n",
    "year='2021'\n",
    "month='6'\n",
    "day='6'\n",
    "\n",
    "base_input_dir='temp'\n",
    "base_output_dir='output'\n",
    "write_mode='overwrite'"
   ]
  },
  {
   "cell_type": "code",
   "execution_count": null,
   "id": "cb6fed08-e712-4955-9193-750f76de16a6",
   "metadata": {},
   "outputs": [],
   "source": [
    "df = spark.read.parquet(f'{base_input_dir}/final_event_type={event_type}/year={year}/month={month}/day={day}/*')\n",
    "df.printSchema()"
   ]
  },
  {
   "cell_type": "markdown",
   "id": "c53e11d3-8fac-4555-9ed0-73a64dba5142",
   "metadata": {},
   "source": [
    "## Creating New Columns"
   ]
  },
  {
   "cell_type": "code",
   "execution_count": null,
   "id": "b4c14e67-4987-44c7-b583-b441cf19d987",
   "metadata": {},
   "outputs": [],
   "source": [
    "df = df.withColumn(\"datetime\", SF.col('timestamp').cast('timestamp')) \n",
    "df = df.withColumn(\"year\", SF.year('datetime'))\n",
    "df = df.withColumn(\"month\", SF.month('datetime'))\n",
    "df = df.withColumn(\"day\", SF.date_format(SF.col(\"datetime\"), \"d\"))"
   ]
  },
  {
   "cell_type": "code",
   "execution_count": null,
   "id": "5b542e11-ccbd-446c-86ed-09a3e9ecfc6d",
   "metadata": {},
   "outputs": [],
   "source": [
    "df.printSchema()"
   ]
  },
  {
   "cell_type": "markdown",
   "id": "43182e43-39ca-46bd-bf59-6f0967d69209",
   "metadata": {},
   "source": [
    "## Remove duplicated events"
   ]
  },
  {
   "cell_type": "code",
   "execution_count": null,
   "id": "5e61bdcd-207a-4ecb-8509-05954ad0256b",
   "metadata": {},
   "outputs": [],
   "source": [
    "windowSpec  = Window.partitionBy(\"event_id\").orderBy(\"datetime\")\n",
    "\n",
    "df = df.withColumn(\"row_number\",SF.row_number().over(windowSpec))\\\n",
    "        .filter('row_number=1')\\\n",
    "        .drop(\"row_number\")\\\n",
    "        .drop('datetime')"
   ]
  },
  {
   "cell_type": "code",
   "execution_count": null,
   "id": "a1077277-cf45-4efe-917d-a4310841e2ee",
   "metadata": {},
   "outputs": [],
   "source": [
    "df.printSchema()"
   ]
  },
  {
   "cell_type": "markdown",
   "id": "2785a38a-0fc0-4d62-9af7-601b764d7718",
   "metadata": {},
   "source": [
    "## Save base"
   ]
  },
  {
   "cell_type": "code",
   "execution_count": null,
   "id": "3f6d0654-1316-4a5e-a573-7fcfbe170979",
   "metadata": {},
   "outputs": [],
   "source": [
    "df.write.partitionBy(['year','month','day'])\\\n",
    "    .mode(write_mode).parquet(f\"{base_output_dir}/{event_type}\")"
   ]
  }
 ],
 "metadata": {
  "kernelspec": {
   "display_name": "Python 3",
   "language": "python",
   "name": "python3"
  },
  "language_info": {
   "codemirror_mode": {
    "name": "ipython",
    "version": 3
   },
   "file_extension": ".py",
   "mimetype": "text/x-python",
   "name": "python",
   "nbconvert_exporter": "python",
   "pygments_lexer": "ipython3",
   "version": "3.9.4"
  }
 },
 "nbformat": 4,
 "nbformat_minor": 5
}
